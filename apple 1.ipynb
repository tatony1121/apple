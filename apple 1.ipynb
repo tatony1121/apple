{
 "cells": [
  {
   "cell_type": "code",
   "execution_count": 1,
   "id": "f84fc1fc",
   "metadata": {},
   "outputs": [],
   "source": [
    "import pandas as pd"
   ]
  },
  {
   "cell_type": "code",
   "execution_count": 15,
   "id": "bf838f55",
   "metadata": {},
   "outputs": [],
   "source": [
    "data = pd.read_csv('AAPL.csv',index_col = 0,parse_dates = True)"
   ]
  },
  {
   "cell_type": "code",
   "execution_count": 16,
   "id": "ee785c39",
   "metadata": {},
   "outputs": [
    {
     "data": {
      "text/html": [
       "<div>\n",
       "<style scoped>\n",
       "    .dataframe tbody tr th:only-of-type {\n",
       "        vertical-align: middle;\n",
       "    }\n",
       "\n",
       "    .dataframe tbody tr th {\n",
       "        vertical-align: top;\n",
       "    }\n",
       "\n",
       "    .dataframe thead th {\n",
       "        text-align: right;\n",
       "    }\n",
       "</style>\n",
       "<table border=\"1\" class=\"dataframe\">\n",
       "  <thead>\n",
       "    <tr style=\"text-align: right;\">\n",
       "      <th></th>\n",
       "      <th>Open</th>\n",
       "      <th>High</th>\n",
       "      <th>Low</th>\n",
       "      <th>Close</th>\n",
       "      <th>Adj Close</th>\n",
       "      <th>Volume</th>\n",
       "    </tr>\n",
       "    <tr>\n",
       "      <th>Date</th>\n",
       "      <th></th>\n",
       "      <th></th>\n",
       "      <th></th>\n",
       "      <th></th>\n",
       "      <th></th>\n",
       "      <th></th>\n",
       "    </tr>\n",
       "  </thead>\n",
       "  <tbody>\n",
       "    <tr>\n",
       "      <th>2021-06-14</th>\n",
       "      <td>127.820000</td>\n",
       "      <td>130.539993</td>\n",
       "      <td>127.070000</td>\n",
       "      <td>130.479996</td>\n",
       "      <td>129.738754</td>\n",
       "      <td>96906500</td>\n",
       "    </tr>\n",
       "    <tr>\n",
       "      <th>2021-06-15</th>\n",
       "      <td>129.940002</td>\n",
       "      <td>130.600006</td>\n",
       "      <td>129.389999</td>\n",
       "      <td>129.639999</td>\n",
       "      <td>128.903534</td>\n",
       "      <td>62746300</td>\n",
       "    </tr>\n",
       "    <tr>\n",
       "      <th>2021-06-16</th>\n",
       "      <td>130.369995</td>\n",
       "      <td>130.889999</td>\n",
       "      <td>128.460007</td>\n",
       "      <td>130.149994</td>\n",
       "      <td>129.410645</td>\n",
       "      <td>91815000</td>\n",
       "    </tr>\n",
       "    <tr>\n",
       "      <th>2021-06-17</th>\n",
       "      <td>129.800003</td>\n",
       "      <td>132.550003</td>\n",
       "      <td>129.649994</td>\n",
       "      <td>131.789993</td>\n",
       "      <td>131.041321</td>\n",
       "      <td>96721700</td>\n",
       "    </tr>\n",
       "    <tr>\n",
       "      <th>2021-06-18</th>\n",
       "      <td>130.710007</td>\n",
       "      <td>131.509995</td>\n",
       "      <td>130.240005</td>\n",
       "      <td>130.460007</td>\n",
       "      <td>129.718887</td>\n",
       "      <td>108953300</td>\n",
       "    </tr>\n",
       "  </tbody>\n",
       "</table>\n",
       "</div>"
      ],
      "text/plain": [
       "                  Open        High         Low       Close   Adj Close  \\\n",
       "Date                                                                     \n",
       "2021-06-14  127.820000  130.539993  127.070000  130.479996  129.738754   \n",
       "2021-06-15  129.940002  130.600006  129.389999  129.639999  128.903534   \n",
       "2021-06-16  130.369995  130.889999  128.460007  130.149994  129.410645   \n",
       "2021-06-17  129.800003  132.550003  129.649994  131.789993  131.041321   \n",
       "2021-06-18  130.710007  131.509995  130.240005  130.460007  129.718887   \n",
       "\n",
       "               Volume  \n",
       "Date                   \n",
       "2021-06-14   96906500  \n",
       "2021-06-15   62746300  \n",
       "2021-06-16   91815000  \n",
       "2021-06-17   96721700  \n",
       "2021-06-18  108953300  "
      ]
     },
     "execution_count": 16,
     "metadata": {},
     "output_type": "execute_result"
    }
   ],
   "source": [
    "data.head()"
   ]
  },
  {
   "cell_type": "code",
   "execution_count": 17,
   "id": "b8fa5eea",
   "metadata": {},
   "outputs": [
    {
     "data": {
      "text/plain": [
       "Open         float64\n",
       "High         float64\n",
       "Low          float64\n",
       "Close        float64\n",
       "Adj Close    float64\n",
       "Volume         int64\n",
       "dtype: object"
      ]
     },
     "execution_count": 17,
     "metadata": {},
     "output_type": "execute_result"
    }
   ],
   "source": [
    "data.dtypes"
   ]
  },
  {
   "cell_type": "code",
   "execution_count": 18,
   "id": "7dc79f99",
   "metadata": {},
   "outputs": [
    {
     "name": "stdout",
     "output_type": "stream",
     "text": [
      "<class 'pandas.core.frame.DataFrame'>\n",
      "DatetimeIndex: 252 entries, 2021-06-14 to 2022-06-10\n",
      "Data columns (total 6 columns):\n",
      " #   Column     Non-Null Count  Dtype  \n",
      "---  ------     --------------  -----  \n",
      " 0   Open       252 non-null    float64\n",
      " 1   High       252 non-null    float64\n",
      " 2   Low        252 non-null    float64\n",
      " 3   Close      252 non-null    float64\n",
      " 4   Adj Close  252 non-null    float64\n",
      " 5   Volume     252 non-null    int64  \n",
      "dtypes: float64(5), int64(1)\n",
      "memory usage: 13.8 KB\n"
     ]
    }
   ],
   "source": [
    "data.info()"
   ]
  },
  {
   "cell_type": "code",
   "execution_count": 19,
   "id": "2153eb53",
   "metadata": {},
   "outputs": [
    {
     "data": {
      "text/plain": [
       "DatetimeIndex(['2021-06-14', '2021-06-15', '2021-06-16', '2021-06-17',\n",
       "               '2021-06-18', '2021-06-21', '2021-06-22', '2021-06-23',\n",
       "               '2021-06-24', '2021-06-25',\n",
       "               ...\n",
       "               '2022-05-27', '2022-05-31', '2022-06-01', '2022-06-02',\n",
       "               '2022-06-03', '2022-06-06', '2022-06-07', '2022-06-08',\n",
       "               '2022-06-09', '2022-06-10'],\n",
       "              dtype='datetime64[ns]', name='Date', length=252, freq=None)"
      ]
     },
     "execution_count": 19,
     "metadata": {},
     "output_type": "execute_result"
    }
   ],
   "source": [
    "data.index"
   ]
  },
  {
   "cell_type": "code",
   "execution_count": 23,
   "id": "cbde34b8",
   "metadata": {},
   "outputs": [
    {
     "data": {
      "text/plain": [
       "Open         1.453900e+02\n",
       "High         1.496800e+02\n",
       "Low          1.452600e+02\n",
       "Close        1.496400e+02\n",
       "Adj Close    1.496400e+02\n",
       "Volume       9.097850e+07\n",
       "Name: 2022-05-27 00:00:00, dtype: float64"
      ]
     },
     "execution_count": 23,
     "metadata": {},
     "output_type": "execute_result"
    }
   ],
   "source": [
    "data.loc['2022-05-27']"
   ]
  },
  {
   "cell_type": "code",
   "execution_count": 24,
   "id": "74b6aa87",
   "metadata": {},
   "outputs": [
    {
     "data": {
      "text/plain": [
       "pandas.core.series.Series"
      ]
     },
     "execution_count": 24,
     "metadata": {},
     "output_type": "execute_result"
    }
   ],
   "source": [
    "type(data['Close'])"
   ]
  },
  {
   "cell_type": "code",
   "execution_count": 25,
   "id": "86a3a9f2",
   "metadata": {},
   "outputs": [],
   "source": [
    "daily_chg = data['Open']-data['Close']"
   ]
  },
  {
   "cell_type": "code",
   "execution_count": 26,
   "id": "fa6305ee",
   "metadata": {},
   "outputs": [
    {
     "data": {
      "text/plain": [
       "Date\n",
       "2021-06-14   -2.659996\n",
       "2021-06-15    0.300003\n",
       "2021-06-16    0.220001\n",
       "2021-06-17   -1.989990\n",
       "2021-06-18    0.250000\n",
       "                ...   \n",
       "2022-06-06    0.890000\n",
       "2022-06-07   -4.360001\n",
       "2022-06-08    0.619995\n",
       "2022-06-09    4.440003\n",
       "2022-06-10    3.149994\n",
       "Length: 252, dtype: float64"
      ]
     },
     "execution_count": 26,
     "metadata": {},
     "output_type": "execute_result"
    }
   ],
   "source": [
    "daily_chg"
   ]
  },
  {
   "cell_type": "code",
   "execution_count": null,
   "id": "9b82e43d",
   "metadata": {},
   "outputs": [],
   "source": []
  }
 ],
 "metadata": {
  "kernelspec": {
   "display_name": "Python 3 (ipykernel)",
   "language": "python",
   "name": "python3"
  },
  "language_info": {
   "codemirror_mode": {
    "name": "ipython",
    "version": 3
   },
   "file_extension": ".py",
   "mimetype": "text/x-python",
   "name": "python",
   "nbconvert_exporter": "python",
   "pygments_lexer": "ipython3",
   "version": "3.9.7"
  }
 },
 "nbformat": 4,
 "nbformat_minor": 5
}
